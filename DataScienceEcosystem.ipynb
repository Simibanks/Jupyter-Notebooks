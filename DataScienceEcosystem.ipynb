{
 "cells": [
  {
   "cell_type": "markdown",
   "id": "ef1ff7fa-449a-466c-a79c-2fbe847f6a1f",
   "metadata": {},
   "source": [
    "## Data Science Tools and Ecosystem\n",
    "\n",
    "In this notebook, Data Science Tools and Ecosystem are summarized\n",
    "\n",
    "**Objectives:**\n",
    "\n",
    "- List popular languages for Data Scientists\n",
    "- List some of the commonly used libraries by data scientists\n",
    "- Evaluate arithmetic expressions using python\n",
    "- Create and format tables in markdown\n",
    "- Convert time units"
   ]
  },
  {
   "cell_type": "markdown",
   "id": "500db2cb-8a78-473d-a671-f39592d8fc33",
   "metadata": {},
   "source": [
    "Some of the popular languages that Data Scientissts use are:\n",
    "\n",
    "1. Python\n",
    "2. R\n",
    "3. SQL\n",
    "4. Scala\n",
    "5. Julia"
   ]
  },
  {
   "cell_type": "markdown",
   "id": "7050274a-6ea7-49bb-b351-5429d0061b34",
   "metadata": {},
   "source": [
    "Some of the commmonly used libraries used by Data Scientists include:\n",
    "\n",
    "1. NumPy\n",
    "2. Pandas\n",
    "3. Matplotlib\n",
    "4. Scikit-learn\n",
    "5. Tensorflow"
   ]
  },
  {
   "cell_type": "markdown",
   "id": "30a750ca-50f6-45d9-90d1-a487e91fb580",
   "metadata": {},
   "source": [
    "| Data Science Tools |\n",
    "|--------------------|\n",
    "| Jupyter Notebook   |\n",
    "| RStudio            |\n",
    "| Apache Zeppelin    |"
   ]
  },
  {
   "cell_type": "markdown",
   "id": "d045d6ce-a787-4e9e-b577-1557e5897929",
   "metadata": {},
   "source": [
    "### Below are a few examples of evaluating arithmetic expressions in python\n",
    "\n",
    "1. Addition: '5 + 5 = 10'\n",
    "2. Subtraction '10 - 5 = 5'\n",
    "3. Multiplication '10 * 10 = 100'\n",
    "4. Division '100 / 50 = 2'"
   ]
  },
  {
   "cell_type": "code",
   "execution_count": 43,
   "id": "9b5fc078-5a3d-40ce-a180-2718039c2832",
   "metadata": {},
   "outputs": [],
   "source": [
    "# This is a simple arithmetic expression to multiply then add integers"
   ]
  },
  {
   "cell_type": "code",
   "execution_count": 41,
   "id": "e2eb07ee-2f5c-4268-a4e6-acdf716e6308",
   "metadata": {},
   "outputs": [
    {
     "data": {
      "text/plain": [
       "17"
      ]
     },
     "execution_count": 41,
     "metadata": {},
     "output_type": "execute_result"
    }
   ],
   "source": [
    "result = (3 * 4) + 5\n",
    "result\n"
   ]
  },
  {
   "cell_type": "code",
   "execution_count": 45,
   "id": "163e332e-086f-40cc-844d-c0d3d62f0e50",
   "metadata": {},
   "outputs": [
    {
     "data": {
      "text/plain": [
       "3.3333333333333335"
      ]
     },
     "execution_count": 45,
     "metadata": {},
     "output_type": "execute_result"
    }
   ],
   "source": [
    "# This will convert 200 minutes to hours by dividing by 60\n",
    "\n",
    "minutes = 200\n",
    "hours = minutes/60\n",
    "hours"
   ]
  },
  {
   "cell_type": "markdown",
   "id": "70049135-6ec0-4f28-8fd4-73cd4f3dfb24",
   "metadata": {},
   "source": [
    "## Author\n",
    "Balqis Bankole"
   ]
  },
  {
   "cell_type": "code",
   "execution_count": null,
   "id": "1cd36fcc-1e54-48d0-b4b6-47598d0babeb",
   "metadata": {},
   "outputs": [],
   "source": []
  }
 ],
 "metadata": {
  "kernelspec": {
   "display_name": "Python 3 (ipykernel)",
   "language": "python",
   "name": "python3"
  },
  "language_info": {
   "codemirror_mode": {
    "name": "ipython",
    "version": 3
   },
   "file_extension": ".py",
   "mimetype": "text/x-python",
   "name": "python",
   "nbconvert_exporter": "python",
   "pygments_lexer": "ipython3",
   "version": "3.12.7"
  }
 },
 "nbformat": 4,
 "nbformat_minor": 5
}
